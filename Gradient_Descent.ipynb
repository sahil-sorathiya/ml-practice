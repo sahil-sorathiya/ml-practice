{
  "nbformat": 4,
  "nbformat_minor": 0,
  "metadata": {
    "colab": {
      "provenance": [],
      "authorship_tag": "ABX9TyNnIe4x3ywQfr2FSGsKYJ9s",
      "include_colab_link": true
    },
    "kernelspec": {
      "name": "python3",
      "display_name": "Python 3"
    },
    "language_info": {
      "name": "python"
    }
  },
  "cells": [
    {
      "cell_type": "markdown",
      "metadata": {
        "id": "view-in-github",
        "colab_type": "text"
      },
      "source": [
        "<a href=\"https://colab.research.google.com/github/sahil-sorathiya/ml-practice/blob/main/Gradient_Descent.ipynb\" target=\"_parent\"><img src=\"https://colab.research.google.com/assets/colab-badge.svg\" alt=\"Open In Colab\"/></a>"
      ]
    },
    {
      "cell_type": "markdown",
      "source": [
        "### Gradient Descent for linear regression for 1 feture"
      ],
      "metadata": {
        "id": "bMNlSMe2ZP4z"
      }
    },
    {
      "cell_type": "code",
      "execution_count": 1,
      "metadata": {
        "id": "puk2fgzTwvnO"
      },
      "outputs": [],
      "source": [
        "import pandas as pd\n",
        "import numpy as np\n",
        "import matplotlib.pyplot as plt"
      ]
    },
    {
      "cell_type": "code",
      "source": [
        "np.random.seed(26)\n",
        "def gen_data():\n",
        "    coeff = np.random.rand(26)\n",
        "    x = np.linspace(-1.1, 0.9, 100)\n",
        "    y = np.zeros_like(x)\n",
        "    for i, c in enumerate(coeff):\n",
        "        y += c * x**i\n",
        "    y += np.random.randn(100) * 0.1\n",
        "\n",
        "    return x, y\n",
        "\n",
        "predictor, y = gen_data()\n",
        "\n",
        "plt.plot(predictor, y, 'r+')\n",
        "plt.xlabel('Predictor')\n",
        "plt.ylabel('Response')\n",
        "plt.title('Sampled Data Points')\n",
        "plt.show()\n",
        "X = np.array([[x, 1] for x in predictor])"
      ],
      "metadata": {
        "colab": {
          "base_uri": "https://localhost:8080/",
          "height": 472
        },
        "id": "zd4fnsaNIkd5",
        "outputId": "4bb94b89-6903-473e-8fbc-ba853043041b"
      },
      "execution_count": 2,
      "outputs": [
        {
          "output_type": "display_data",
          "data": {
            "text/plain": [
              "<Figure size 640x480 with 1 Axes>"
            ],
            "image/png": "[encoded data removed]"
          },
          "metadata": {}
        }
      ]
    },
    {
      "cell_type": "code",
      "source": [
        "def mean_squared_error(y_true, y_predicted):\n",
        "    cost = np.sum((y_true-y_predicted)**2) / len(y_true)\n",
        "    return cost"
      ],
      "metadata": {
        "id": "jwcU2osGIyk2"
      },
      "execution_count": 3,
      "outputs": []
    },
    {
      "cell_type": "code",
      "source": [
        "def calc_gradient(X, y, y_predicted):\n",
        "    n = float(len(X))\n",
        "    weight_derivatives = -(2/n) * np.sum(np.dot(X.T , (y-y_predicted).reshape(y.shape[0],1)), axis=1)\n",
        "    return weight_derivatives"
      ],
      "metadata": {
        "id": "vMnN8bQ5bIAi"
      },
      "execution_count": 4,
      "outputs": []
    },
    {
      "cell_type": "code",
      "source": [
        "def gradient_descent(X, y, iterations =1000, learning_rate = 0.01, stopping_threshold = 1e-6):\n",
        "    current_weight = np.array([0.0] * X.shape[1])\n",
        "\n",
        "    # print(X.shape)\n",
        "    # print(y.shape)\n",
        "    # print(current_weight.shape)\n",
        "\n",
        "    n = float(len(X))\n",
        "\n",
        "    previous_cost = None\n",
        "\n",
        "    for i in range(iterations):\n",
        "\n",
        "        y_predicted = np.sum(current_weight * X, axis=1)\n",
        "        current_cost = mean_squared_error(y, y_predicted)\n",
        "\n",
        "        if previous_cost and abs(previous_cost-current_cost)<=stopping_threshold:\n",
        "            break\n",
        "\n",
        "        previous_cost = current_cost\n",
        "\n",
        "        # for j in range(len(current_weight)):\n",
        "        #     weight_derivative = -(2/n) * sum(X[:, j] * (y-y_predicted))\n",
        "        #     current_weight[j] = current_weight[j] - (learning_rate * weight_derivative)\n",
        "        weight_derivatives = calc_gradient(X, y, y_predicted)\n",
        "        current_weight = current_weight - (learning_rate * weight_derivatives)\n",
        "\n",
        "        if (i % 100) == 0:\n",
        "            print(f\"Iteration {i}: Cost {current_cost}, Weight {current_weight}\")\n",
        "\n",
        "    return current_weight\n",
        "\n",
        "estimated_weight = gradient_descent(X, y)"
      ],
      "metadata": {
        "colab": {
          "base_uri": "https://localhost:8080/"
        },
        "id": "xezU2tVVI-Jg",
        "outputId": "628c9536-68b3-4f8c-d202-568974304b23"
      },
      "execution_count": 5,
      "outputs": [
        {
          "output_type": "stream",
          "name": "stdout",
          "text": [
            "Iteration 0: Cost 2.57312001237861, Weight [0.00053933 0.01874877]\n",
            "Iteration 100: Cost 1.6868203841584728, Weight [0.12342246 0.8222518 ]\n",
            "Iteration 200: Cost 1.6573031306606754, Weight [0.23024704 0.93927873]\n",
            "Iteration 300: Cost 1.6529425467283567, Weight [0.29045418 0.96131766]\n",
            "Iteration 400: Cost 1.651861142108351, Weight [0.32192078 0.96771968]\n",
            "Iteration 500: Cost 1.6515801997633661, Weight [0.3380791  0.97036438]\n"
          ]
        }
      ]
    },
    {
      "cell_type": "code",
      "source": [
        "y_predicted = np.sum(estimated_weight * X, axis=1)"
      ],
      "metadata": {
        "id": "Of4yF6hHRyJ4"
      },
      "execution_count": 6,
      "outputs": []
    },
    {
      "cell_type": "code",
      "source": [
        "plt.plot(predictor, y, 'r+')\n",
        "plt.plot(predictor, y_predicted,linewidth=2.5, color='darkblue')\n",
        "plt.xlabel('Predictor')\n",
        "plt.ylabel('Response')\n",
        "plt.title('Sampled Data Points')\n",
        "plt.show()"
      ],
      "metadata": {
        "colab": {
          "base_uri": "https://localhost:8080/",
          "height": 472
        },
        "id": "uyWLb4NgTg2q",
        "outputId": "df21be6b-79e7-44d7-f566-7edfed9215a3"
      },
      "execution_count": 7,
      "outputs": [
        {
          "output_type": "display_data",
          "data": {
            "text/plain": [
              "<Figure size 640x480 with 1 Axes>"
            ],
            "image/png": "[encoded data removed]"
          },
          "metadata": {}
        }
      ]
    },
    {
      "cell_type": "markdown",
      "source": [
        "### Gradient Descent for Linear regression for multiple feature"
      ],
      "metadata": {
        "id": "J7ZbKgOjZa0a"
      }
    },
    {
      "cell_type": "code",
      "source": [
        "train_data = pd.read_csv(\"/content/sample_data/california_housing_train.csv\")\n",
        "test_data = pd.read_csv(\"/content/sample_data/california_housing_test.csv\")\n",
        "train_data = train_data.drop([\"longitude\", \"latitude\"], axis=1)\n",
        "test_data = test_data.drop([\"longitude\", \"latitude\"], axis=1)\n",
        "\n",
        "def normalize_column(column):\n",
        "    min_val = column.min()\n",
        "    max_val = column.max()\n",
        "    return (column - min_val) / (max_val - min_val)\n",
        "\n",
        "# Normalize each column\n",
        "train_data = train_data.apply(normalize_column)\n",
        "test_data = test_data.apply(normalize_column)\n",
        "\n",
        "train_data[\"bias\"] = np.array([1.0] * train_data.shape[0])\n",
        "test_data[\"bias\"] = np.array([1.0] * test_data.shape[0])\n",
        "\n",
        "train_data.head()"
      ],
      "metadata": {
        "colab": {
          "base_uri": "https://localhost:8080/",
          "height": 206
        },
        "id": "Jc7cqkBcZgKN",
        "outputId": "644fd6b1-8556-4654-a5d4-77031f85af94"
      },
      "execution_count": 8,
      "outputs": [
        {
          "output_type": "execute_result",
          "data": {
            "text/plain": [
              "   housing_median_age  total_rooms  total_bedrooms  population  households  \\\n",
              "0            0.274510     0.147885        0.198945    0.028364    0.077454   \n",
              "1            0.352941     0.201608        0.294848    0.031559    0.075974   \n",
              "2            0.313725     0.018927        0.026847    0.009249    0.019076   \n",
              "3            0.254902     0.039515        0.052142    0.014350    0.037000   \n",
              "4            0.372549     0.038276        0.050435    0.017405    0.042921   \n",
              "\n",
              "   median_income  median_house_value  bias  \n",
              "0       0.068530            0.107012   1.0  \n",
              "1       0.091040            0.134228   1.0  \n",
              "2       0.079378            0.145775   1.0  \n",
              "3       0.185639            0.120414   1.0  \n",
              "4       0.098281            0.104125   1.0  "
            ],
            "text/html": [
              "\n",
              "  <div id=\"df-8623c940-8cc7-4a01-82ef-a01fedf5529d\" class=\"colab-df-container\">\n",
              "    <div>\n",
              "<style scoped>\n",
              "    .dataframe tbody tr th:only-of-type {\n",
              "        vertical-align: middle;\n",
              "    }\n",
              "\n",
              "    .dataframe tbody tr th {\n",
              "        vertical-align: top;\n",
              "    }\n",
              "\n",
              "    .dataframe thead th {\n",
              "        text-align: right;\n",
              "    }\n",
              "</style>\n",
              "<table border=\"1\" class=\"dataframe\">\n",
              "  <thead>\n",
              "    <tr style=\"text-align: right;\">\n",
              "      <th></th>\n",
              "      <th>housing_median_age</th>\n",
              "      <th>total_rooms</th>\n",
              "      <th>total_bedrooms</th>\n",
              "      <th>population</th>\n",
              "      <th>households</th>\n",
              "      <th>median_income</th>\n",
              "      <th>median_house_value</th>\n",
              "      <th>bias</th>\n",
              "    </tr>\n",
              "  </thead>\n",
              "  <tbody>\n",
              "    <tr>\n",
              "      <th>0</th>\n",
              "      <td>0.274510</td>\n",
              "      <td>0.147885</td>\n",
              "      <td>0.198945</td>\n",
              "      <td>0.028364</td>\n",
              "      <td>0.077454</td>\n",
              "      <td>0.068530</td>\n",
              "      <td>0.107012</td>\n",
              "      <td>1.0</td>\n",
              "    </tr>\n",
              "    <tr>\n",
              "      <th>1</th>\n",
              "      <td>0.352941</td>\n",
              "      <td>0.201608</td>\n",
              "      <td>0.294848</td>\n",
              "      <td>0.031559</td>\n",
              "      <td>0.075974</td>\n",
              "      <td>0.091040</td>\n",
              "      <td>0.134228</td>\n",
              "      <td>1.0</td>\n",
              "    </tr>\n",
              "    <tr>\n",
              "      <th>2</th>\n",
              "      <td>0.313725</td>\n",
              "      <td>0.018927</td>\n",
              "      <td>0.026847</td>\n",
              "      <td>0.009249</td>\n",
              "      <td>0.019076</td>\n",
              "      <td>0.079378</td>\n",
              "      <td>0.145775</td>\n",
              "      <td>1.0</td>\n",
              "    </tr>\n",
              "    <tr>\n",
              "      <th>3</th>\n",
              "      <td>0.254902</td>\n",
              "      <td>0.039515</td>\n",
              "      <td>0.052142</td>\n",
              "      <td>0.014350</td>\n",
              "      <td>0.037000</td>\n",
              "      <td>0.185639</td>\n",
              "      <td>0.120414</td>\n",
              "      <td>1.0</td>\n",
              "    </tr>\n",
              "    <tr>\n",
              "      <th>4</th>\n",
              "      <td>0.372549</td>\n",
              "      <td>0.038276</td>\n",
              "      <td>0.050435</td>\n",
              "      <td>0.017405</td>\n",
              "      <td>0.042921</td>\n",
              "      <td>0.098281</td>\n",
              "      <td>0.104125</td>\n",
              "      <td>1.0</td>\n",
              "    </tr>\n",
              "  </tbody>\n",
              "</table>\n",
              "</div>\n",
              "    <div class=\"colab-df-buttons\">\n",
              "\n",
              "  <div class=\"colab-df-container\">\n",
              "    <button class=\"colab-df-convert\" onclick=\"convertToInteractive('df-8623c940-8cc7-4a01-82ef-a01fedf5529d')\"\n",
              "            title=\"Convert this dataframe to an interactive table.\"\n",
              "            style=\"display:none;\">\n",
              "\n",
              "  <svg xmlns=\"http://www.w3.org/2000/svg\" height=\"24px\" viewBox=\"0 -960 960 960\">\n",
              "    <path d=\"M120-120v-720h720v720H120Zm60-500h600v-160H180v160Zm220 220h160v-160H400v160Zm0 220h160v-160H400v160ZM180-400h160v-160H180v160Zm440 0h160v-160H620v160ZM180-180h160v-160H180v160Zm440 0h160v-160H620v160Z\"/>\n",
              "  </svg>\n",
              "    </button>\n",
              "\n",
              "  <style>\n",
              "    .colab-df-container {\n",
              "      display:flex;\n",
              "      gap: 12px;\n",
              "    }\n",
              "\n",
              "    .colab-df-convert {\n",
              "      background-color: #E8F0FE;\n",
              "      border: none;\n",
              "      border-radius: 50%;\n",
              "      cursor: pointer;\n",
              "      display: none;\n",
              "      fill: #1967D2;\n",
              "      height: 32px;\n",
              "      padding: 0 0 0 0;\n",
              "      width: 32px;\n",
              "    }\n",
              "\n",
              "    .colab-df-convert:hover {\n",
              "      background-color: #E2EBFA;\n",
              "      box-shadow: 0px 1px 2px rgba(60, 64, 67, 0.3), 0px 1px 3px 1px rgba(60, 64, 67, 0.15);\n",
              "      fill: #174EA6;\n",
              "    }\n",
              "\n",
              "    .colab-df-buttons div {\n",
              "      margin-bottom: 4px;\n",
              "    }\n",
              "\n",
              "    [theme=dark] .colab-df-convert {\n",
              "      background-color: #3B4455;\n",
              "      fill: #D2E3FC;\n",
              "    }\n",
              "\n",
              "    [theme=dark] .colab-df-convert:hover {\n",
              "      background-color: #434B5C;\n",
              "      box-shadow: 0px 1px 3px 1px rgba(0, 0, 0, 0.15);\n",
              "      filter: drop-shadow(0px 1px 2px rgba(0, 0, 0, 0.3));\n",
              "      fill: #FFFFFF;\n",
              "    }\n",
              "  </style>\n",
              "\n",
              "    <script>\n",
              "      const buttonEl =\n",
              "        document.querySelector('#df-8623c940-8cc7-4a01-82ef-a01fedf5529d button.colab-df-convert');\n",
              "      buttonEl.style.display =\n",
              "        google.colab.kernel.accessAllowed ? 'block' : 'none';\n",
              "\n",
              "      async function convertToInteractive(key) {\n",
              "        const element = document.querySelector('#df-8623c940-8cc7-4a01-82ef-a01fedf5529d');\n",
              "        const dataTable =\n",
              "          await google.colab.kernel.invokeFunction('convertToInteractive',\n",
              "                                                    [key], {});\n",
              "        if (!dataTable) return;\n",
              "\n",
              "        const docLinkHtml = 'Like what you see? Visit the ' +\n",
              "          '<a target=\"_blank\" href=https://colab.research.google.com/notebooks/data_table.ipynb>data table notebook</a>'\n",
              "          + ' to learn more about interactive tables.';\n",
              "        element.innerHTML = '';\n",
              "        dataTable['output_type'] = 'display_data';\n",
              "        await google.colab.output.renderOutput(dataTable, element);\n",
              "        const docLink = document.createElement('div');\n",
              "        docLink.innerHTML = docLinkHtml;\n",
              "        element.appendChild(docLink);\n",
              "      }\n",
              "    </script>\n",
              "  </div>\n",
              "\n",
              "\n",
              "<div id=\"df-0c3e59ae-dbe7-4d0c-a90e-7b0a54ffa794\">\n",
              "  <button class=\"colab-df-quickchart\" onclick=\"quickchart('df-0c3e59ae-dbe7-4d0c-a90e-7b0a54ffa794')\"\n",
              "            title=\"Suggest charts\"\n",
              "            style=\"display:none;\">\n",
              "\n",
              "<svg xmlns=\"http://www.w3.org/2000/svg\" height=\"24px\"viewBox=\"0 0 24 24\"\n",
              "     width=\"24px\">\n",
              "    <g>\n",
              "        <path d=\"M19 3H5c-1.1 0-2 .9-2 2v14c0 1.1.9 2 2 2h14c1.1 0 2-.9 2-2V5c0-1.1-.9-2-2-2zM9 17H7v-7h2v7zm4 0h-2V7h2v10zm4 0h-2v-4h2v4z\"/>\n",
              "    </g>\n",
              "</svg>\n",
              "  </button>\n",
              "\n",
              "<style>\n",
              "  .colab-df-quickchart {\n",
              "      --bg-color: #E8F0FE;\n",
              "      --fill-color: #1967D2;\n",
              "      --hover-bg-color: #E2EBFA;\n",
              "      --hover-fill-color: #174EA6;\n",
              "      --disabled-fill-color: #AAA;\n",
              "      --disabled-bg-color: #DDD;\n",
              "  }\n",
              "\n",
              "  [theme=dark] .colab-df-quickchart {\n",
              "      --bg-color: #3B4455;\n",
              "      --fill-color: #D2E3FC;\n",
              "      --hover-bg-color: #434B5C;\n",
              "      --hover-fill-color: #FFFFFF;\n",
              "      --disabled-bg-color: #3B4455;\n",
              "      --disabled-fill-color: #666;\n",
              "  }\n",
              "\n",
              "  .colab-df-quickchart {\n",
              "    background-color: var(--bg-color);\n",
              "    border: none;\n",
              "    border-radius: 50%;\n",
              "    cursor: pointer;\n",
              "    display: none;\n",
              "    fill: var(--fill-color);\n",
              "    height: 32px;\n",
              "    padding: 0;\n",
              "    width: 32px;\n",
              "  }\n",
              "\n",
              "  .colab-df-quickchart:hover {\n",
              "    background-color: var(--hover-bg-color);\n",
              "    box-shadow: 0 1px 2px rgba(60, 64, 67, 0.3), 0 1px 3px 1px rgba(60, 64, 67, 0.15);\n",
              "    fill: var(--button-hover-fill-color);\n",
              "  }\n",
              "\n",
              "  .colab-df-quickchart-complete:disabled,\n",
              "  .colab-df-quickchart-complete:disabled:hover {\n",
              "    background-color: var(--disabled-bg-color);\n",
              "    fill: var(--disabled-fill-color);\n",
              "    box-shadow: none;\n",
              "  }\n",
              "\n",
              "  .colab-df-spinner {\n",
              "    border: 2px solid var(--fill-color);\n",
              "    border-color: transparent;\n",
              "    border-bottom-color: var(--fill-color);\n",
              "    animation:\n",
              "      spin 1s steps(1) infinite;\n",
              "  }\n",
              "\n",
              "  @keyframes spin {\n",
              "    0% {\n",
              "      border-color: transparent;\n",
              "      border-bottom-color: var(--fill-color);\n",
              "      border-left-color: var(--fill-color);\n",
              "    }\n",
              "    20% {\n",
              "      border-color: transparent;\n",
              "      border-left-color: var(--fill-color);\n",
              "      border-top-color: var(--fill-color);\n",
              "    }\n",
              "    30% {\n",
              "      border-color: transparent;\n",
              "      border-left-color: var(--fill-color);\n",
              "      border-top-color: var(--fill-color);\n",
              "      border-right-color: var(--fill-color);\n",
              "    }\n",
              "    40% {\n",
              "      border-color: transparent;\n",
              "      border-right-color: var(--fill-color);\n",
              "      border-top-color: var(--fill-color);\n",
              "    }\n",
              "    60% {\n",
              "      border-color: transparent;\n",
              "      border-right-color: var(--fill-color);\n",
              "    }\n",
              "    80% {\n",
              "      border-color: transparent;\n",
              "      border-right-color: var(--fill-color);\n",
              "      border-bottom-color: var(--fill-color);\n",
              "    }\n",
              "    90% {\n",
              "      border-color: transparent;\n",
              "      border-bottom-color: var(--fill-color);\n",
              "    }\n",
              "  }\n",
              "</style>\n",
              "\n",
              "  <script>\n",
              "    async function quickchart(key) {\n",
              "      const quickchartButtonEl =\n",
              "        document.querySelector('#' + key + ' button');\n",
              "      quickchartButtonEl.disabled = true;  // To prevent multiple clicks.\n",
              "      quickchartButtonEl.classList.add('colab-df-spinner');\n",
              "      try {\n",
              "        const charts = await google.colab.kernel.invokeFunction(\n",
              "            'suggestCharts', [key], {});\n",
              "      } catch (error) {\n",
              "        console.error('Error during call to suggestCharts:', error);\n",
              "      }\n",
              "      quickchartButtonEl.classList.remove('colab-df-spinner');\n",
              "      quickchartButtonEl.classList.add('colab-df-quickchart-complete');\n",
              "    }\n",
              "    (() => {\n",
              "      let quickchartButtonEl =\n",
              "        document.querySelector('#df-0c3e59ae-dbe7-4d0c-a90e-7b0a54ffa794 button');\n",
              "      quickchartButtonEl.style.display =\n",
              "        google.colab.kernel.accessAllowed ? 'block' : 'none';\n",
              "    })();\n",
              "  </script>\n",
              "</div>\n",
              "\n",
              "    </div>\n",
              "  </div>\n"
            ],
            "application/vnd.google.colaboratory.intrinsic+json": {
              "type": "dataframe",
              "variable_name": "train_data",
              "summary": "{\n  \"name\": \"train_data\",\n  \"rows\": 17000,\n  \"fields\": [\n    {\n      \"column\": \"housing_median_age\",\n      \"properties\": {\n        \"dtype\": \"number\",\n        \"std\": 0.24680268591490975,\n        \"min\": 0.0,\n        \"max\": 1.0,\n        \"num_unique_values\": 52,\n        \"samples\": [\n          0.43137254901960786,\n          1.0,\n          0.9019607843137255\n        ],\n        \"semantic_type\": \"\",\n        \"description\": \"\"\n      }\n    },\n    {\n      \"column\": \"total_rooms\",\n      \"properties\": {\n        \"dtype\": \"number\",\n        \"std\": 0.057465324145321406,\n        \"min\": 0.0,\n        \"max\": 1.0,\n        \"num_unique_values\": 5533,\n        \"samples\": [\n          0.09389745617503624,\n          0.18328720179253988,\n          0.14364043759061554\n        ],\n        \"semantic_type\": \"\",\n        \"description\": \"\"\n      }\n    },\n    {\n      \"column\": \"total_bedrooms\",\n      \"properties\": {\n        \"dtype\": \"number\",\n        \"std\": 0.06540959832089767,\n        \"min\": 0.0,\n        \"max\": 1.0,\n        \"num_unique_values\": 1848,\n        \"samples\": [\n          0.11297330850403477,\n          0.11142147734326505,\n          0.3218497827436375\n        ],\n        \"semantic_type\": \"\",\n        \"description\": \"\"\n      }\n    },\n    {\n      \"column\": \"population\",\n      \"properties\": {\n        \"dtype\": \"number\",\n        \"std\": 0.032171668464910076,\n        \"min\": 0.0,\n        \"max\": 1.0,\n        \"num_unique_values\": 3683,\n        \"samples\": [\n          0.006894812074329438,\n          0.04854396143389669,\n          0.006502424395302559\n        ],\n        \"semantic_type\": \"\",\n        \"description\": \"\"\n      }\n    },\n    {\n      \"column\": \"households\",\n      \"properties\": {\n        \"dtype\": \"number\",\n        \"std\": 0.06323315916064806,\n        \"min\": 0.0,\n        \"max\": 1.0,\n        \"num_unique_values\": 1740,\n        \"samples\": [\n          0.0639697418187798,\n          0.17891794112810394,\n          0.2220029600394672\n        ],\n        \"semantic_type\": \"\",\n        \"description\": \"\"\n      }\n    },\n    {\n      \"column\": \"median_income\",\n      \"properties\": {\n        \"dtype\": \"number\",\n        \"std\": 0.13159518616150837,\n        \"min\": 0.0,\n        \"max\": 1.0,\n        \"num_unique_values\": 11175,\n        \"samples\": [\n          0.4665866677700997,\n          0.3537468448711052,\n          0.2569826623081061\n        ],\n        \"semantic_type\": \"\",\n        \"description\": \"\"\n      }\n    },\n    {\n      \"column\": \"median_house_value\",\n      \"properties\": {\n        \"dtype\": \"number\",\n        \"std\": 0.239140796094055,\n        \"min\": 0.0,\n        \"max\": 1.0,\n        \"num_unique_values\": 3694,\n        \"samples\": [\n          0.30371214964062004,\n          0.6841229520703007,\n          0.20969191879621116\n        ],\n        \"semantic_type\": \"\",\n        \"description\": \"\"\n      }\n    },\n    {\n      \"column\": \"bias\",\n      \"properties\": {\n        \"dtype\": \"number\",\n        \"std\": 0.0,\n        \"min\": 1.0,\n        \"max\": 1.0,\n        \"num_unique_values\": 1,\n        \"samples\": [\n          1.0\n        ],\n        \"semantic_type\": \"\",\n        \"description\": \"\"\n      }\n    }\n  ]\n}"
            }
          },
          "metadata": {},
          "execution_count": 8
        }
      ]
    },
    {
      "cell_type": "code",
      "source": [
        "X_train = train_data.drop([\"median_house_value\"], axis=1).to_numpy()\n",
        "y_train = train_data[\"median_house_value\"].to_numpy()\n",
        "X_test = test_data.drop([\"median_house_value\"], axis=1).to_numpy()\n",
        "y_test = test_data[\"median_house_value\"].to_numpy()\n",
        "\n",
        "print(X_train.shape)\n",
        "print(y_train.shape)\n",
        "print(X_test.shape)\n",
        "print(y_test.shape)"
      ],
      "metadata": {
        "colab": {
          "base_uri": "https://localhost:8080/"
        },
        "id": "cay_yGynZwF4",
        "outputId": "d075fb8f-5e77-4b26-ab5f-b01957688faa"
      },
      "execution_count": 9,
      "outputs": [
        {
          "output_type": "stream",
          "name": "stdout",
          "text": [
            "(17000, 7)\n",
            "(17000,)\n",
            "(3000, 7)\n",
            "(3000,)\n"
          ]
        }
      ]
    },
    {
      "cell_type": "code",
      "source": [
        "def mean_squared_error(y_true, y_predicted):\n",
        "\n",
        "    # Calculating the loss or cost\n",
        "    cost = np.sum((y_true-y_predicted)**2) / len(y_true)\n",
        "    return cost"
      ],
      "metadata": {
        "id": "LbYgDQBSbCdC"
      },
      "execution_count": 10,
      "outputs": []
    },
    {
      "cell_type": "code",
      "source": [
        "def calc_gradient(X, y, y_predicted):\n",
        "    n = float(len(X))\n",
        "    weight_derivatives = -(2/n) * np.sum(np.dot(X.T , (y-y_predicted).reshape(y.shape[0],1)), axis=1)\n",
        "    return weight_derivatives"
      ],
      "metadata": {
        "id": "r7WM6qMSbzA0"
      },
      "execution_count": 11,
      "outputs": []
    },
    {
      "cell_type": "code",
      "source": [
        "def gradient_descent(X, y, iterations=1000, learning_rate=0.001, stopping_threshold=1e-06):\n",
        "    W = np.array([0.0] * X.shape[1])\n",
        "    print(W.shape)\n",
        "\n",
        "    previous_weights = None\n",
        "\n",
        "    for i in range(iterations):\n",
        "\n",
        "        y_predicted = np.sum(X * W, axis=1)\n",
        "        current_cost = mean_squared_error(y, y_predicted)\n",
        "        previous_cost = None\n",
        "\n",
        "        if previous_cost and abs(previous_cost - current_cost) < stopping_threshold:\n",
        "            break\n",
        "        previous_weights = W\n",
        "        weight_derivatives = calc_gradient(X, y, y_predicted)\n",
        "        W = W - (learning_rate * weight_derivatives)\n",
        "\n",
        "        if i % 1000 == 0:\n",
        "            print(f\"Iteration {i}: Cost {current_cost}, Weight {W}\")\n",
        "\n",
        "    return W\n",
        "\n",
        "W = gradient_descent(X_train, y_train, iterations=5000, learning_rate=0.05)\n",
        "print()\n",
        "W"
      ],
      "metadata": {
        "colab": {
          "base_uri": "https://localhost:8080/"
        },
        "id": "-p02lBaUb1zC",
        "outputId": "67c8fb29-9df0-45ae-fe14-52ce5fd2fe54"
      },
      "execution_count": 12,
      "outputs": [
        {
          "output_type": "stream",
          "name": "stdout",
          "text": [
            "(7,)\n",
            "Iteration 0: Cost 0.2143949489259579, Weight [0.02207927 0.00294107 0.00338443 0.00156391 0.00335386 0.01142959\n",
            " 0.03964972]\n",
            "Iteration 1000: Cost 0.028352963670760768, Weight [ 0.16694243  0.09118989  0.08353944 -0.01893692  0.08829249  1.04406148\n",
            "  0.04406114]\n",
            "Iteration 2000: Cost 0.027132139662160628, Weight [ 0.20223331  0.08747925  0.13944414 -0.0519414   0.1400903   1.24124538\n",
            " -0.02939599]\n",
            "Iteration 3000: Cost 0.026963237562473947, Weight [ 0.21237813  0.06131634  0.18396363 -0.08941156  0.17881618  1.28553443\n",
            " -0.049052  ]\n",
            "Iteration 4000: Cost 0.026857877828944415, Weight [ 0.21529067  0.02667085  0.22012451 -0.12967138  0.20906562  1.29786441\n",
            " -0.05505819]\n",
            "\n"
          ]
        },
        {
          "output_type": "execute_result",
          "data": {
            "text/plain": [
              "array([ 0.21599402, -0.01066757,  0.25196048, -0.17078603,  0.23512141,\n",
              "        1.30329676, -0.05728498])"
            ]
          },
          "metadata": {},
          "execution_count": 12
        }
      ]
    },
    {
      "cell_type": "code",
      "source": [
        "y_test_pred = np.sum(W * X_test, axis = 1)\n",
        "\n",
        "cost = mean_squared_error(y_test, y_test_pred)\n",
        "\n",
        "cost"
      ],
      "metadata": {
        "colab": {
          "base_uri": "https://localhost:8080/"
        },
        "id": "wU6lFBMdfvq0",
        "outputId": "70f95f6a-1940-4037-fa73-5147f1e57066"
      },
      "execution_count": 13,
      "outputs": [
        {
          "output_type": "execute_result",
          "data": {
            "text/plain": [
              "0.027265669848200665"
            ]
          },
          "metadata": {},
          "execution_count": 13
        }
      ]
    }
  ]
}